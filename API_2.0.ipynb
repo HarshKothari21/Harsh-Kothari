{
 "cells": [
  {
   "cell_type": "code",
   "execution_count": 1,
   "metadata": {},
   "outputs": [],
   "source": [
    "import searchtweets, yaml"
   ]
  },
  {
   "cell_type": "code",
   "execution_count": 2,
   "metadata": {},
   "outputs": [],
   "source": [
    "config = dict(\n",
    "    search_tweets_api = dict(\n",
    "        account_type = 'premium',\n",
    "        endpoint = 'https://api.twitter.com/1.1/tweets/search/fullarchive/development.json',\n",
    "        consumer_key = '',\n",
    "        consumer_secret = '',\n",
    "        bearer_token = ''\n",
    "    )\n",
    ")\n",
    "with open('twitter_keys_fullarchive.yaml', 'w') as config_file:\n",
    "    yaml.dump(config, config_file, default_flow_style=False)"
   ]
  },
  {
   "cell_type": "code",
   "execution_count": 3,
   "metadata": {},
   "outputs": [
    {
     "name": "stdout",
     "output_type": "stream",
     "text": [
      "{'bearer_token': 'AAAAAAAAAAAAAAAAAAAAAL4rNAEAAAAANfKom74O3IscD%2B0Mp9PHsJfW%2ByU%3DpOoBbTYSUbGYz7kWR72F5B56K8moJP1WKbRHhMtHluaKQ1HAtJ', 'endpoint': 'https://api.twitter.com/1.1/tweets/search/fullarchive/development.json', 'extra_headers_dict': None}\n"
     ]
    }
   ],
   "source": [
    "from searchtweets import load_credentials\n",
    "\n",
    "premium_search_args = load_credentials(\"twitter_keys_fullarchive.yaml\",\n",
    "                                       yaml_key=\"search_tweets_api\",\n",
    "                                       env_overwrite=False)\n",
    "print(premium_search_args)"
   ]
  },
  {
   "cell_type": "code",
   "execution_count": 28,
   "metadata": {},
   "outputs": [],
   "source": [
    "from searchtweets import gen_rule_payload \n",
    "\n",
    "query = '(AMZN)'\n",
    "rule = gen_rule_payload(query, results_per_call=100, from_date=\"2020-01-01\", to_date=\"2020-03-31\")"
   ]
  },
  {
   "cell_type": "code",
   "execution_count": 29,
   "metadata": {},
   "outputs": [
    {
     "name": "stdout",
     "output_type": "stream",
     "text": [
      "ResultStream: \n",
      "\t{\n",
      "    \"username\": null,\n",
      "    \"endpoint\": \"https://api.twitter.com/1.1/tweets/search/fullarchive/development.json\",\n",
      "    \"rule_payload\": {\n",
      "        \"query\": \"(AMZN)\",\n",
      "        \"maxResults\": 100,\n",
      "        \"toDate\": \"202003310000\",\n",
      "        \"fromDate\": \"202001010000\"\n",
      "    },\n",
      "    \"tweetify\": true,\n",
      "    \"max_results\": 3000\n",
      "}\n"
     ]
    }
   ],
   "source": [
    "from searchtweets import ResultStream\n",
    "\n",
    "rs = ResultStream(rule_payload=rule,\n",
    "                  max_results=3000,\n",
    "                  **premium_search_args)\n",
    "print(rs)"
   ]
  },
  {
   "cell_type": "code",
   "execution_count": 30,
   "metadata": {},
   "outputs": [
    {
     "name": "stderr",
     "output_type": "stream",
     "text": [
      "HTTP Error code: 429: {\"error\":{\"message\":\"Request exceeds account’s current package request limits. Please upgrade your package and retry or contact Twitter about enterprise access.\",\"sent\":\"2021-02-23T13:10:27+00:00\",\"transactionId\":\"0051800d00a42d8f\"}}\n",
      "Request payload: {'query': '(AMZN)', 'maxResults': 100, 'toDate': '202003310000', 'fromDate': '202001010000', 'next': 'eyJtYXhJZCI6MTI0NDc2Mjc3Njk1NTgwOTc5Mn0='}\n",
      "Rate limit hit... Will retry...\n",
      "Will retry in 4 seconds...\n",
      "HTTP Error code: 429: {\"error\":{\"message\":\"Request exceeds account’s current package request limits. Please upgrade your package and retry or contact Twitter about enterprise access.\",\"sent\":\"2021-02-23T13:10:31+00:00\",\"transactionId\":\"00f71614006abcce\"}}\n",
      "Request payload: {'query': '(AMZN)', 'maxResults': 100, 'toDate': '202003310000', 'fromDate': '202001010000', 'next': 'eyJtYXhJZCI6MTI0NDc2Mjc3Njk1NTgwOTc5Mn0='}\n",
      "Rate limit hit... Will retry...\n",
      "Will retry in 16 seconds...\n",
      "HTTP Error code: 429: {\"error\":{\"message\":\"Request exceeds account’s current package request limits. Please upgrade your package and retry or contact Twitter about enterprise access.\",\"sent\":\"2021-02-23T13:10:47+00:00\",\"transactionId\":\"002ece5f008eda0d\"}}\n",
      "Request payload: {'query': '(AMZN)', 'maxResults': 100, 'toDate': '202003310000', 'fromDate': '202001010000', 'next': 'eyJtYXhJZCI6MTI0NDc2Mjc3Njk1NTgwOTc5Mn0='}\n",
      "Rate limit hit... Will retry...\n",
      "Will retry in 36 seconds...\n",
      "HTTP Error code: 429: {\"error\":{\"message\":\"Request exceeds account’s current package request limits. Please upgrade your package and retry or contact Twitter about enterprise access.\",\"sent\":\"2021-02-23T13:11:24+00:00\",\"transactionId\":\"007a64f40093d031\"}}\n",
      "Request payload: {'query': '(AMZN)', 'maxResults': 100, 'toDate': '202003310000', 'fromDate': '202001010000', 'next': 'eyJtYXhJZCI6MTI0NDc2Mjc3Njk1NTgwOTc5Mn0='}\n",
      "Rate limit hit... Will retry...\n",
      "Will retry in 64 seconds...\n",
      "HTTP Error code: 429: {\"error\":{\"message\":\"Request exceeds account’s current package request limits. Please upgrade your package and retry or contact Twitter about enterprise access.\",\"sent\":\"2021-02-23T13:12:28+00:00\",\"transactionId\":\"00a8905c0075dba5\"}}\n",
      "Request payload: {'query': '(AMZN)', 'maxResults': 100, 'toDate': '202003310000', 'fromDate': '202001010000', 'next': 'eyJtYXhJZCI6MTI0NDc2Mjc3Njk1NTgwOTc5Mn0='}\n",
      "Rate limit hit... Will retry...\n",
      "Will retry in 100 seconds...\n",
      "HTTP Error code: 429: {\"error\":{\"message\":\"Request exceeds account’s current package request limits. Please upgrade your package and retry or contact Twitter about enterprise access.\",\"sent\":\"2021-02-23T13:14:08+00:00\",\"transactionId\":\"00f5c08700723c64\"}}\n",
      "Request payload: {'query': '(AMZN)', 'maxResults': 100, 'toDate': '202003310000', 'fromDate': '202001010000', 'next': 'eyJtYXhJZCI6MTI0NDc2Mjc3Njk1NTgwOTc5Mn0='}\n",
      "Rate limit hit... Will retry...\n",
      "Will retry in 144 seconds...\n",
      "HTTP Error code: 429: {\"error\":{\"message\":\"Request exceeds account’s current package request limits. Please upgrade your package and retry or contact Twitter about enterprise access.\",\"sent\":\"2021-02-23T13:16:33+00:00\",\"transactionId\":\"00d3d71100e9d7eb\"}}\n",
      "Request payload: {'query': '(AMZN)', 'maxResults': 100, 'toDate': '202003310000', 'fromDate': '202001010000', 'next': 'eyJtYXhJZCI6MTI0NDc2Mjc3Njk1NTgwOTc5Mn0='}\n",
      "Rate limit hit... Will retry...\n",
      "Will retry in 196 seconds...\n"
     ]
    },
    {
     "ename": "KeyboardInterrupt",
     "evalue": "",
     "output_type": "error",
     "traceback": [
      "\u001b[1;31m---------------------------------------------------------------------------\u001b[0m",
      "\u001b[1;31mKeyboardInterrupt\u001b[0m                         Traceback (most recent call last)",
      "\u001b[1;32m<ipython-input-30-9a726daca359>\u001b[0m in \u001b[0;36m<module>\u001b[1;34m\u001b[0m\n\u001b[0;32m      1\u001b[0m \u001b[1;32mimport\u001b[0m \u001b[0mjson\u001b[0m\u001b[1;33m\u001b[0m\u001b[1;33m\u001b[0m\u001b[0m\n\u001b[0;32m      2\u001b[0m \u001b[1;32mwith\u001b[0m \u001b[0mopen\u001b[0m\u001b[1;33m(\u001b[0m\u001b[1;34m'tweetsData.jsonl'\u001b[0m\u001b[1;33m,\u001b[0m \u001b[1;34m'a'\u001b[0m\u001b[1;33m,\u001b[0m \u001b[0mencoding\u001b[0m\u001b[1;33m=\u001b[0m\u001b[1;34m'utf-8'\u001b[0m\u001b[1;33m)\u001b[0m \u001b[1;32mas\u001b[0m \u001b[0mf\u001b[0m\u001b[1;33m:\u001b[0m\u001b[1;33m\u001b[0m\u001b[1;33m\u001b[0m\u001b[0m\n\u001b[1;32m----> 3\u001b[1;33m     \u001b[1;32mfor\u001b[0m \u001b[0mtweet\u001b[0m \u001b[1;32min\u001b[0m \u001b[0mrs\u001b[0m\u001b[1;33m.\u001b[0m\u001b[0mstream\u001b[0m\u001b[1;33m(\u001b[0m\u001b[1;33m)\u001b[0m\u001b[1;33m:\u001b[0m\u001b[1;33m\u001b[0m\u001b[1;33m\u001b[0m\u001b[0m\n\u001b[0m\u001b[0;32m      4\u001b[0m         \u001b[0mjson\u001b[0m\u001b[1;33m.\u001b[0m\u001b[0mdump\u001b[0m\u001b[1;33m(\u001b[0m\u001b[0mtweet\u001b[0m\u001b[1;33m,\u001b[0m \u001b[0mf\u001b[0m\u001b[1;33m)\u001b[0m\u001b[1;33m\u001b[0m\u001b[1;33m\u001b[0m\u001b[0m\n\u001b[0;32m      5\u001b[0m         \u001b[0mf\u001b[0m\u001b[1;33m.\u001b[0m\u001b[0mwrite\u001b[0m\u001b[1;33m(\u001b[0m\u001b[1;34m'\\n'\u001b[0m\u001b[1;33m)\u001b[0m\u001b[1;33m\u001b[0m\u001b[1;33m\u001b[0m\u001b[0m\n",
      "\u001b[1;32m~\\Anaconda3\\envs\\Twitter\\lib\\site-packages\\searchtweets\\result_stream.py\u001b[0m in \u001b[0;36mstream\u001b[1;34m(self)\u001b[0m\n\u001b[0;32m    234\u001b[0m                 logger.info(\"paging; total requests read so far: {}\"\n\u001b[0;32m    235\u001b[0m                             .format(self.n_requests))\n\u001b[1;32m--> 236\u001b[1;33m                 \u001b[0mself\u001b[0m\u001b[1;33m.\u001b[0m\u001b[0mexecute_request\u001b[0m\u001b[1;33m(\u001b[0m\u001b[1;33m)\u001b[0m\u001b[1;33m\u001b[0m\u001b[1;33m\u001b[0m\u001b[0m\n\u001b[0m\u001b[0;32m    237\u001b[0m             \u001b[1;32melse\u001b[0m\u001b[1;33m:\u001b[0m\u001b[1;33m\u001b[0m\u001b[1;33m\u001b[0m\u001b[0m\n\u001b[0;32m    238\u001b[0m                 \u001b[1;32mbreak\u001b[0m\u001b[1;33m\u001b[0m\u001b[1;33m\u001b[0m\u001b[0m\n",
      "\u001b[1;32m~\\Anaconda3\\envs\\Twitter\\lib\\site-packages\\searchtweets\\result_stream.py\u001b[0m in \u001b[0;36mexecute_request\u001b[1;34m(self)\u001b[0m\n\u001b[0;32m    272\u001b[0m         resp = request(session=self.session,\n\u001b[0;32m    273\u001b[0m                        \u001b[0murl\u001b[0m\u001b[1;33m=\u001b[0m\u001b[0mself\u001b[0m\u001b[1;33m.\u001b[0m\u001b[0mendpoint\u001b[0m\u001b[1;33m,\u001b[0m\u001b[1;33m\u001b[0m\u001b[1;33m\u001b[0m\u001b[0m\n\u001b[1;32m--> 274\u001b[1;33m                        rule_payload=self.rule_payload)\n\u001b[0m\u001b[0;32m    275\u001b[0m         \u001b[0mself\u001b[0m\u001b[1;33m.\u001b[0m\u001b[0mn_requests\u001b[0m \u001b[1;33m+=\u001b[0m \u001b[1;36m1\u001b[0m\u001b[1;33m\u001b[0m\u001b[1;33m\u001b[0m\u001b[0m\n\u001b[0;32m    276\u001b[0m         \u001b[0mResultStream\u001b[0m\u001b[1;33m.\u001b[0m\u001b[0msession_request_counter\u001b[0m \u001b[1;33m+=\u001b[0m \u001b[1;36m1\u001b[0m\u001b[1;33m\u001b[0m\u001b[1;33m\u001b[0m\u001b[0m\n",
      "\u001b[1;32m~\\Anaconda3\\envs\\Twitter\\lib\\site-packages\\searchtweets\\result_stream.py\u001b[0m in \u001b[0;36mretried_func\u001b[1;34m(*args, **kwargs)\u001b[0m\n\u001b[0;32m    113\u001b[0m                 \u001b[0mlogger\u001b[0m\u001b[1;33m.\u001b[0m\u001b[0mwarning\u001b[0m\u001b[1;33m(\u001b[0m\u001b[1;34mf\"Will retry in {sleep_seconds} seconds...\"\u001b[0m\u001b[1;33m)\u001b[0m\u001b[1;33m\u001b[0m\u001b[1;33m\u001b[0m\u001b[0m\n\u001b[0;32m    114\u001b[0m                 \u001b[1;31m#print(f\"Will retry in {sleep_seconds} seconds...\")\u001b[0m\u001b[1;33m\u001b[0m\u001b[1;33m\u001b[0m\u001b[1;33m\u001b[0m\u001b[0m\n\u001b[1;32m--> 115\u001b[1;33m                 \u001b[0mtime\u001b[0m\u001b[1;33m.\u001b[0m\u001b[0msleep\u001b[0m\u001b[1;33m(\u001b[0m\u001b[0msleep_seconds\u001b[0m\u001b[1;33m)\u001b[0m\u001b[1;33m\u001b[0m\u001b[1;33m\u001b[0m\u001b[0m\n\u001b[0m\u001b[0;32m    116\u001b[0m                 \u001b[1;32mcontinue\u001b[0m\u001b[1;33m\u001b[0m\u001b[1;33m\u001b[0m\u001b[0m\n\u001b[0;32m    117\u001b[0m \u001b[1;33m\u001b[0m\u001b[0m\n",
      "\u001b[1;31mKeyboardInterrupt\u001b[0m: "
     ]
    }
   ],
   "source": [
    "import json\n",
    "with open('tweetsData.jsonl', 'a', encoding='utf-8') as f:\n",
    "    for tweet in rs.stream():\n",
    "        json.dump(tweet, f)\n",
    "        f.write('\\n')\n",
    "print('done')"
   ]
  },
  {
   "cell_type": "code",
   "execution_count": null,
   "metadata": {},
   "outputs": [],
   "source": []
  }
 ],
 "metadata": {
  "kernelspec": {
   "display_name": "Python 3",
   "language": "python",
   "name": "python3"
  },
  "language_info": {
   "codemirror_mode": {
    "name": "ipython",
    "version": 3
   },
   "file_extension": ".py",
   "mimetype": "text/x-python",
   "name": "python",
   "nbconvert_exporter": "python",
   "pygments_lexer": "ipython3",
   "version": "3.7.7"
  }
 },
 "nbformat": 4,
 "nbformat_minor": 4
}
